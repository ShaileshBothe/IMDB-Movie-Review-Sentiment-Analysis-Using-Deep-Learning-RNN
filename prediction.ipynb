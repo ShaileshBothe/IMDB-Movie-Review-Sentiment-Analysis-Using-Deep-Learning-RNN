{
 "cells": [
  {
   "cell_type": "code",
   "execution_count": 1,
   "metadata": {},
   "outputs": [],
   "source": [
    "# Step 1: Import Libraries and Load the Model\n",
    "import numpy as np\n",
    "import tensorflow as tf\n",
    "from tensorflow.keras.datasets import imdb\n",
    "from tensorflow.keras.preprocessing import sequence\n",
    "from tensorflow.keras.models import load_model"
   ]
  },
  {
   "cell_type": "code",
   "execution_count": 2,
   "metadata": {},
   "outputs": [],
   "source": [
    "\n",
    "# Load the IMDB dataset word index\n",
    "word_index = imdb.get_word_index()\n",
    "reverse_word_index = {value: key for key, value in word_index.items()}"
   ]
  },
  {
   "cell_type": "code",
   "execution_count": 4,
   "metadata": {},
   "outputs": [
    {
     "name": "stderr",
     "output_type": "stream",
     "text": [
      "WARNING:absl:Compiled the loaded model, but the compiled metrics have yet to be built. `model.compile_metrics` will be empty until you train or evaluate the model.\n"
     ]
    },
    {
     "data": {
      "text/html": [
       "<pre style=\"white-space:pre;overflow-x:auto;line-height:normal;font-family:Menlo,'DejaVu Sans Mono',consolas,'Courier New',monospace\"><span style=\"font-weight: bold\">Model: \"sequential_1\"</span>\n",
       "</pre>\n"
      ],
      "text/plain": [
       "\u001b[1mModel: \"sequential_1\"\u001b[0m\n"
      ]
     },
     "metadata": {},
     "output_type": "display_data"
    },
    {
     "data": {
      "text/html": [
       "<pre style=\"white-space:pre;overflow-x:auto;line-height:normal;font-family:Menlo,'DejaVu Sans Mono',consolas,'Courier New',monospace\">┏━━━━━━━━━━━━━━━━━━━━━━━━━━━━━━━━━┳━━━━━━━━━━━━━━━━━━━━━━━━┳━━━━━━━━━━━━━━━┓\n",
       "┃<span style=\"font-weight: bold\"> Layer (type)                    </span>┃<span style=\"font-weight: bold\"> Output Shape           </span>┃<span style=\"font-weight: bold\">       Param # </span>┃\n",
       "┡━━━━━━━━━━━━━━━━━━━━━━━━━━━━━━━━━╇━━━━━━━━━━━━━━━━━━━━━━━━╇━━━━━━━━━━━━━━━┩\n",
       "│ embedding_1 (<span style=\"color: #0087ff; text-decoration-color: #0087ff\">Embedding</span>)         │ (<span style=\"color: #00af00; text-decoration-color: #00af00\">32</span>, <span style=\"color: #00af00; text-decoration-color: #00af00\">500</span>, <span style=\"color: #00af00; text-decoration-color: #00af00\">128</span>)         │     <span style=\"color: #00af00; text-decoration-color: #00af00\">1,280,000</span> │\n",
       "├─────────────────────────────────┼────────────────────────┼───────────────┤\n",
       "│ simple_rnn_1 (<span style=\"color: #0087ff; text-decoration-color: #0087ff\">SimpleRNN</span>)        │ (<span style=\"color: #00af00; text-decoration-color: #00af00\">32</span>, <span style=\"color: #00af00; text-decoration-color: #00af00\">128</span>)              │        <span style=\"color: #00af00; text-decoration-color: #00af00\">32,896</span> │\n",
       "├─────────────────────────────────┼────────────────────────┼───────────────┤\n",
       "│ dense_1 (<span style=\"color: #0087ff; text-decoration-color: #0087ff\">Dense</span>)                 │ (<span style=\"color: #00af00; text-decoration-color: #00af00\">32</span>, <span style=\"color: #00af00; text-decoration-color: #00af00\">1</span>)                │           <span style=\"color: #00af00; text-decoration-color: #00af00\">129</span> │\n",
       "└─────────────────────────────────┴────────────────────────┴───────────────┘\n",
       "</pre>\n"
      ],
      "text/plain": [
       "┏━━━━━━━━━━━━━━━━━━━━━━━━━━━━━━━━━┳━━━━━━━━━━━━━━━━━━━━━━━━┳━━━━━━━━━━━━━━━┓\n",
       "┃\u001b[1m \u001b[0m\u001b[1mLayer (type)                   \u001b[0m\u001b[1m \u001b[0m┃\u001b[1m \u001b[0m\u001b[1mOutput Shape          \u001b[0m\u001b[1m \u001b[0m┃\u001b[1m \u001b[0m\u001b[1m      Param #\u001b[0m\u001b[1m \u001b[0m┃\n",
       "┡━━━━━━━━━━━━━━━━━━━━━━━━━━━━━━━━━╇━━━━━━━━━━━━━━━━━━━━━━━━╇━━━━━━━━━━━━━━━┩\n",
       "│ embedding_1 (\u001b[38;5;33mEmbedding\u001b[0m)         │ (\u001b[38;5;34m32\u001b[0m, \u001b[38;5;34m500\u001b[0m, \u001b[38;5;34m128\u001b[0m)         │     \u001b[38;5;34m1,280,000\u001b[0m │\n",
       "├─────────────────────────────────┼────────────────────────┼───────────────┤\n",
       "│ simple_rnn_1 (\u001b[38;5;33mSimpleRNN\u001b[0m)        │ (\u001b[38;5;34m32\u001b[0m, \u001b[38;5;34m128\u001b[0m)              │        \u001b[38;5;34m32,896\u001b[0m │\n",
       "├─────────────────────────────────┼────────────────────────┼───────────────┤\n",
       "│ dense_1 (\u001b[38;5;33mDense\u001b[0m)                 │ (\u001b[38;5;34m32\u001b[0m, \u001b[38;5;34m1\u001b[0m)                │           \u001b[38;5;34m129\u001b[0m │\n",
       "└─────────────────────────────────┴────────────────────────┴───────────────┘\n"
      ]
     },
     "metadata": {},
     "output_type": "display_data"
    },
    {
     "data": {
      "text/html": [
       "<pre style=\"white-space:pre;overflow-x:auto;line-height:normal;font-family:Menlo,'DejaVu Sans Mono',consolas,'Courier New',monospace\"><span style=\"font-weight: bold\"> Total params: </span><span style=\"color: #00af00; text-decoration-color: #00af00\">1,313,027</span> (5.01 MB)\n",
       "</pre>\n"
      ],
      "text/plain": [
       "\u001b[1m Total params: \u001b[0m\u001b[38;5;34m1,313,027\u001b[0m (5.01 MB)\n"
      ]
     },
     "metadata": {},
     "output_type": "display_data"
    },
    {
     "data": {
      "text/html": [
       "<pre style=\"white-space:pre;overflow-x:auto;line-height:normal;font-family:Menlo,'DejaVu Sans Mono',consolas,'Courier New',monospace\"><span style=\"font-weight: bold\"> Trainable params: </span><span style=\"color: #00af00; text-decoration-color: #00af00\">1,313,025</span> (5.01 MB)\n",
       "</pre>\n"
      ],
      "text/plain": [
       "\u001b[1m Trainable params: \u001b[0m\u001b[38;5;34m1,313,025\u001b[0m (5.01 MB)\n"
      ]
     },
     "metadata": {},
     "output_type": "display_data"
    },
    {
     "data": {
      "text/html": [
       "<pre style=\"white-space:pre;overflow-x:auto;line-height:normal;font-family:Menlo,'DejaVu Sans Mono',consolas,'Courier New',monospace\"><span style=\"font-weight: bold\"> Non-trainable params: </span><span style=\"color: #00af00; text-decoration-color: #00af00\">0</span> (0.00 B)\n",
       "</pre>\n"
      ],
      "text/plain": [
       "\u001b[1m Non-trainable params: \u001b[0m\u001b[38;5;34m0\u001b[0m (0.00 B)\n"
      ]
     },
     "metadata": {},
     "output_type": "display_data"
    },
    {
     "data": {
      "text/html": [
       "<pre style=\"white-space:pre;overflow-x:auto;line-height:normal;font-family:Menlo,'DejaVu Sans Mono',consolas,'Courier New',monospace\"><span style=\"font-weight: bold\"> Optimizer params: </span><span style=\"color: #00af00; text-decoration-color: #00af00\">2</span> (12.00 B)\n",
       "</pre>\n"
      ],
      "text/plain": [
       "\u001b[1m Optimizer params: \u001b[0m\u001b[38;5;34m2\u001b[0m (12.00 B)\n"
      ]
     },
     "metadata": {},
     "output_type": "display_data"
    }
   ],
   "source": [
    "# Load the pre-trained model with ReLU activation\n",
    "model = load_model('imdb_rnn_model.h5')\n",
    "model.summary()"
   ]
  },
  {
   "cell_type": "code",
   "execution_count": 5,
   "metadata": {},
   "outputs": [
    {
     "data": {
      "text/plain": [
       "[array([[-0.14614439, -0.2934165 , -0.29883733, ..., -0.0351407 ,\n",
       "          0.01325347, -0.00253484],\n",
       "        [-0.05814623, -0.06094956, -0.03831819, ...,  0.01737842,\n",
       "          0.00269553, -0.00804031],\n",
       "        [-0.02326945, -0.17826426, -0.07943679, ...,  0.07222884,\n",
       "         -0.07020349,  0.07044384],\n",
       "        ...,\n",
       "        [-0.01895228, -0.00442086, -0.05602474, ..., -0.07740149,\n",
       "         -0.02145394, -0.01171697],\n",
       "        [ 0.02355453, -0.00847605,  0.03164439, ..., -0.00409309,\n",
       "          0.01895775, -0.04114242],\n",
       "        [ 0.0007154 ,  0.07707936,  0.01227981, ..., -0.03257589,\n",
       "          0.06960154, -0.0027519 ]], dtype=float32),\n",
       " array([[ 0.17793784, -0.13508663, -0.07992334, ..., -0.16120237,\n",
       "         -0.03023166,  0.05453255],\n",
       "        [ 0.18686216,  0.20847517,  0.07652067, ...,  0.14319734,\n",
       "          0.07647235,  0.05195703],\n",
       "        [-0.11368483, -0.03165939, -0.07799554, ..., -0.10302474,\n",
       "          0.08780339,  0.01325904],\n",
       "        ...,\n",
       "        [ 0.0721641 , -0.0150841 , -0.00818544, ..., -0.02193741,\n",
       "         -0.05237172, -0.11641467],\n",
       "        [ 0.01618032,  0.10046731, -0.04899189, ...,  0.08297929,\n",
       "         -0.00794839, -0.07153112],\n",
       "        [-0.16710246,  0.0873708 , -0.2020622 , ..., -0.09812491,\n",
       "          0.04096454, -0.00528315]], dtype=float32),\n",
       " array([[ 0.10166551, -0.11670402, -0.22297707, ..., -0.03396666,\n",
       "         -0.09993086, -0.04810363],\n",
       "        [ 0.04310832, -0.01292033, -0.04467549, ..., -0.15037583,\n",
       "          0.00149391, -0.11476215],\n",
       "        [ 0.00141975, -0.27226737, -0.04401642, ..., -0.07505247,\n",
       "         -0.06889931, -0.2705392 ],\n",
       "        ...,\n",
       "        [ 0.0750428 , -0.0887259 , -0.03533178, ..., -0.1044681 ,\n",
       "          0.0306108 , -0.22475952],\n",
       "        [-0.15733539,  0.01766834, -0.05622835, ..., -0.19072151,\n",
       "          0.00318904,  0.04165677],\n",
       "        [ 0.08377329,  0.02502382,  0.19233671, ..., -0.02536446,\n",
       "          0.17334992, -0.04582195]], dtype=float32),\n",
       " array([ 3.47360643e-03, -1.96819417e-02, -2.17383057e-02,  2.07297392e-02,\n",
       "         2.75507104e-02, -5.93997212e-03,  7.24441488e-04,  1.53357564e-02,\n",
       "         5.11246873e-03, -2.99004223e-02, -2.11293101e-02,  1.55847212e-02,\n",
       "         1.67226847e-02, -2.12616473e-02,  1.72859207e-02,  1.29681211e-02,\n",
       "        -1.54067734e-02, -1.11450837e-03,  9.96529032e-03,  5.56641743e-02,\n",
       "         7.32279150e-04, -3.19755115e-02,  2.50115376e-02, -4.14375551e-02,\n",
       "         1.34547785e-01,  1.27756000e-02, -2.70527415e-02, -4.05607708e-02,\n",
       "        -3.47630656e-03, -1.34226680e-02, -1.96958594e-02, -5.59398346e-02,\n",
       "         3.82891670e-02,  3.32542174e-02, -2.19653593e-03,  2.32875254e-03,\n",
       "         6.64584665e-03, -2.86142388e-03, -1.86861604e-02,  1.03058919e-01,\n",
       "        -1.70276780e-02, -3.88639644e-02,  3.31777297e-02,  1.69304945e-02,\n",
       "        -4.16014828e-02,  5.70544302e-02, -3.59422676e-02, -4.98717241e-02,\n",
       "         2.00528316e-02, -2.37170095e-03, -2.28558965e-02, -2.22698599e-02,\n",
       "        -3.89371850e-02, -4.97706272e-02,  4.84778695e-02, -3.81798409e-02,\n",
       "         1.34399431e-02, -6.16114438e-02, -4.63812016e-02, -3.22306179e-03,\n",
       "        -4.50346507e-02,  1.63091568e-03, -4.00615856e-02, -2.95855701e-02,\n",
       "         2.13866867e-02,  7.05267955e-03, -4.38431799e-02, -7.17017520e-03,\n",
       "         1.92849711e-02, -4.76007462e-02, -1.65158305e-02,  1.70538798e-02,\n",
       "        -4.09798659e-02, -1.69004202e-02,  3.36625762e-02, -2.38589253e-02,\n",
       "        -4.85965647e-02,  1.93280075e-02,  3.87605950e-02, -6.09152503e-02,\n",
       "         1.04465557e-03,  1.12645730e-01, -4.98103118e-03,  5.57551067e-03,\n",
       "        -5.00038154e-02, -2.57337298e-02, -1.86775029e-02,  4.93431129e-02,\n",
       "         2.47621834e-02, -5.06096194e-03,  2.75479294e-02,  2.42400705e-03,\n",
       "         1.62600223e-02, -2.97654746e-03, -1.33927893e-02, -2.40564812e-02,\n",
       "        -4.09586839e-02,  4.02568020e-02, -2.44162064e-02,  2.56492887e-02,\n",
       "         1.72435131e-04,  2.51703318e-02,  9.19732192e-05, -6.62457338e-03,\n",
       "         2.43337918e-03,  5.35821654e-02, -4.53165285e-02, -3.39532606e-02,\n",
       "         7.04389717e-03, -1.10439593e-02,  3.78526673e-02,  1.20418947e-02,\n",
       "        -2.65583955e-02,  3.94135229e-02, -2.61769872e-02, -3.14071518e-03,\n",
       "        -1.35702565e-02,  1.33723728e-02, -4.24287207e-02,  2.35669482e-02,\n",
       "        -4.56266664e-02,  2.02925913e-02, -3.84529377e-03,  5.01232669e-02,\n",
       "        -1.05258757e-02, -5.28552942e-03, -3.74008343e-02, -5.04769906e-02],\n",
       "       dtype=float32),\n",
       " array([[ 0.0750417 ],\n",
       "        [ 0.29550472],\n",
       "        [ 0.29618153],\n",
       "        [ 0.12093256],\n",
       "        [-0.20199269],\n",
       "        [ 0.04481349],\n",
       "        [ 0.05921705],\n",
       "        [-0.07775406],\n",
       "        [ 0.12568039],\n",
       "        [-0.13960667],\n",
       "        [-0.05145478],\n",
       "        [ 0.08712984],\n",
       "        [-0.03166521],\n",
       "        [ 0.04097058],\n",
       "        [-0.36197   ],\n",
       "        [ 0.17551565],\n",
       "        [ 0.27940983],\n",
       "        [-0.18448702],\n",
       "        [-0.10351416],\n",
       "        [-0.11536276],\n",
       "        [-0.28634724],\n",
       "        [ 0.01570943],\n",
       "        [-0.15929873],\n",
       "        [ 0.09669451],\n",
       "        [ 0.25835523],\n",
       "        [-0.12466164],\n",
       "        [ 0.04016343],\n",
       "        [ 0.07746808],\n",
       "        [ 0.14999159],\n",
       "        [ 0.19642836],\n",
       "        [ 0.27587423],\n",
       "        [ 0.10876612],\n",
       "        [-0.12592201],\n",
       "        [ 0.02903392],\n",
       "        [-0.11847487],\n",
       "        [ 0.7160579 ],\n",
       "        [ 0.03299661],\n",
       "        [ 0.09623793],\n",
       "        [ 0.05940272],\n",
       "        [ 0.27817035],\n",
       "        [ 0.15941091],\n",
       "        [ 0.08361457],\n",
       "        [-0.15659675],\n",
       "        [-0.3098607 ],\n",
       "        [ 0.1375965 ],\n",
       "        [-0.14847462],\n",
       "        [-0.07927126],\n",
       "        [ 0.16098359],\n",
       "        [ 0.12314919],\n",
       "        [-0.05611334],\n",
       "        [ 0.12121893],\n",
       "        [ 0.08408756],\n",
       "        [ 0.10444944],\n",
       "        [ 0.04969985],\n",
       "        [ 0.12866063],\n",
       "        [ 0.13349657],\n",
       "        [-0.14146224],\n",
       "        [-0.09247598],\n",
       "        [-0.02527718],\n",
       "        [-0.50177646],\n",
       "        [ 0.23077276],\n",
       "        [-0.21284534],\n",
       "        [ 0.23151615],\n",
       "        [ 0.1447729 ],\n",
       "        [-0.072358  ],\n",
       "        [-0.04616692],\n",
       "        [ 0.14519963],\n",
       "        [ 0.18951386],\n",
       "        [ 0.03096656],\n",
       "        [-0.21952748],\n",
       "        [ 0.19054958],\n",
       "        [-0.20982158],\n",
       "        [ 0.20255901],\n",
       "        [-0.15046513],\n",
       "        [ 0.09586021],\n",
       "        [ 0.03293147],\n",
       "        [ 0.11767519],\n",
       "        [-0.12020051],\n",
       "        [-0.16913551],\n",
       "        [ 0.08266252],\n",
       "        [ 0.10960496],\n",
       "        [ 0.19787766],\n",
       "        [-0.03929796],\n",
       "        [ 0.09145377],\n",
       "        [-0.26250276],\n",
       "        [ 0.1762077 ],\n",
       "        [ 0.11838739],\n",
       "        [-0.02588858],\n",
       "        [-0.28037494],\n",
       "        [-0.02013546],\n",
       "        [-0.04998437],\n",
       "        [ 0.05217803],\n",
       "        [-0.0596071 ],\n",
       "        [-0.04697125],\n",
       "        [ 0.13963465],\n",
       "        [-0.10874022],\n",
       "        [ 0.2519278 ],\n",
       "        [-0.1468489 ],\n",
       "        [ 0.16694319],\n",
       "        [-0.0164057 ],\n",
       "        [-0.32312512],\n",
       "        [-0.3661693 ],\n",
       "        [-0.94536424],\n",
       "        [-0.18807802],\n",
       "        [ 0.08430772],\n",
       "        [-0.0749478 ],\n",
       "        [-0.11066817],\n",
       "        [-0.33703083],\n",
       "        [ 0.00646011],\n",
       "        [-0.09010087],\n",
       "        [ 0.02142755],\n",
       "        [-0.0236907 ],\n",
       "        [ 0.03384659],\n",
       "        [-0.13213857],\n",
       "        [ 0.0564363 ],\n",
       "        [-0.23421751],\n",
       "        [ 0.29809588],\n",
       "        [-0.17723413],\n",
       "        [ 0.03018365],\n",
       "        [ 0.18896972],\n",
       "        [ 0.06168627],\n",
       "        [-0.02857291],\n",
       "        [ 0.13006796],\n",
       "        [-0.153703  ],\n",
       "        [ 0.06904238],\n",
       "        [ 0.07267243],\n",
       "        [ 0.18495987],\n",
       "        [ 0.13696046]], dtype=float32),\n",
       " array([0.05562193], dtype=float32)]"
      ]
     },
     "execution_count": 5,
     "metadata": {},
     "output_type": "execute_result"
    }
   ],
   "source": [
    "model.get_weights()"
   ]
  },
  {
   "cell_type": "code",
   "execution_count": 6,
   "metadata": {},
   "outputs": [],
   "source": [
    "# Step 2: Helper Functions\n",
    "# Function to decode reviews\n",
    "def decode_review(encoded_review):\n",
    "    return ' '.join([reverse_word_index.get(i - 3, '?') for i in encoded_review])\n",
    "\n",
    "# Function to preprocess user input\n",
    "def preprocess_text(text):\n",
    "    words = text.lower().split()\n",
    "    encoded_review = [word_index.get(word, 2) + 3 for word in words]\n",
    "    padded_review = sequence.pad_sequences([encoded_review], maxlen=500)\n",
    "    return padded_review"
   ]
  },
  {
   "cell_type": "code",
   "execution_count": 7,
   "metadata": {},
   "outputs": [],
   "source": [
    "### Prediction  function\n",
    "\n",
    "def predict_sentiment(review):\n",
    "    preprocessed_input=preprocess_text(review)\n",
    "\n",
    "    prediction=model.predict(preprocessed_input)\n",
    "\n",
    "    sentiment = 'Positive' if prediction[0][0] > 0.5 else 'Negative'\n",
    "    \n",
    "    return sentiment, prediction[0][0]\n",
    "\n"
   ]
  },
  {
   "cell_type": "code",
   "execution_count": 8,
   "metadata": {},
   "outputs": [
    {
     "name": "stdout",
     "output_type": "stream",
     "text": [
      "\u001b[1m1/1\u001b[0m \u001b[32m━━━━━━━━━━━━━━━━━━━━\u001b[0m\u001b[37m\u001b[0m \u001b[1m0s\u001b[0m 284ms/step\n",
      "Review: This movie was fantastic! The acting was great and the plot was thrilling.\n",
      "Sentiment: Positive\n",
      "Prediction Score: 0.8231393098831177\n"
     ]
    }
   ],
   "source": [
    "# Step 4: User Input and Prediction\n",
    "# Example review for prediction\n",
    "example_review = \"This movie was fantastic! The acting was great and the plot was thrilling.\"\n",
    "\n",
    "sentiment,score=predict_sentiment(example_review)\n",
    "\n",
    "print(f'Review: {example_review}')\n",
    "print(f'Sentiment: {sentiment}')\n",
    "print(f'Prediction Score: {score}')"
   ]
  },
  {
   "cell_type": "code",
   "execution_count": null,
   "metadata": {},
   "outputs": [],
   "source": []
  },
  {
   "cell_type": "code",
   "execution_count": null,
   "metadata": {},
   "outputs": [],
   "source": []
  },
  {
   "cell_type": "code",
   "execution_count": null,
   "metadata": {},
   "outputs": [],
   "source": []
  },
  {
   "cell_type": "code",
   "execution_count": null,
   "metadata": {},
   "outputs": [],
   "source": []
  }
 ],
 "metadata": {
  "kernelspec": {
   "display_name": ".venv",
   "language": "python",
   "name": "python3"
  },
  "language_info": {
   "codemirror_mode": {
    "name": "ipython",
    "version": 3
   },
   "file_extension": ".py",
   "mimetype": "text/x-python",
   "name": "python",
   "nbconvert_exporter": "python",
   "pygments_lexer": "ipython3",
   "version": "3.11.5"
  }
 },
 "nbformat": 4,
 "nbformat_minor": 2
}
