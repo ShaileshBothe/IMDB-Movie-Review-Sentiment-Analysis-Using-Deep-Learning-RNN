{
 "cells": [
  {
   "cell_type": "code",
   "execution_count": 24,
   "id": "d0c1c84a",
   "metadata": {},
   "outputs": [
    {
     "name": "stdout",
     "output_type": "stream",
     "text": [
      "Requirement already satisfied: tensorflow in c:\\users\\shail\\anaconda3\\lib\\site-packages (2.19.0)\n",
      "Requirement already satisfied: absl-py>=1.0.0 in c:\\users\\shail\\anaconda3\\lib\\site-packages (from tensorflow) (2.2.2)\n",
      "Requirement already satisfied: astunparse>=1.6.0 in c:\\users\\shail\\anaconda3\\lib\\site-packages (from tensorflow) (1.6.3)\n",
      "Requirement already satisfied: flatbuffers>=24.3.25 in c:\\users\\shail\\anaconda3\\lib\\site-packages (from tensorflow) (25.2.10)\n",
      "Requirement already satisfied: gast!=0.5.0,!=0.5.1,!=0.5.2,>=0.2.1 in c:\\users\\shail\\anaconda3\\lib\\site-packages (from tensorflow) (0.6.0)\n",
      "Requirement already satisfied: google-pasta>=0.1.1 in c:\\users\\shail\\anaconda3\\lib\\site-packages (from tensorflow) (0.2.0)\n",
      "Requirement already satisfied: libclang>=13.0.0 in c:\\users\\shail\\anaconda3\\lib\\site-packages (from tensorflow) (18.1.1)\n",
      "Requirement already satisfied: opt-einsum>=2.3.2 in c:\\users\\shail\\anaconda3\\lib\\site-packages (from tensorflow) (3.4.0)\n",
      "Requirement already satisfied: packaging in c:\\users\\shail\\anaconda3\\lib\\site-packages (from tensorflow) (24.1)\n",
      "Requirement already satisfied: protobuf!=4.21.0,!=4.21.1,!=4.21.2,!=4.21.3,!=4.21.4,!=4.21.5,<6.0.0dev,>=3.20.3 in c:\\users\\shail\\anaconda3\\lib\\site-packages (from tensorflow) (4.25.3)\n",
      "Requirement already satisfied: requests<3,>=2.21.0 in c:\\users\\shail\\anaconda3\\lib\\site-packages (from tensorflow) (2.32.3)\n",
      "Requirement already satisfied: setuptools in c:\\users\\shail\\anaconda3\\lib\\site-packages (from tensorflow) (75.1.0)\n",
      "Requirement already satisfied: six>=1.12.0 in c:\\users\\shail\\anaconda3\\lib\\site-packages (from tensorflow) (1.16.0)\n",
      "Requirement already satisfied: termcolor>=1.1.0 in c:\\users\\shail\\anaconda3\\lib\\site-packages (from tensorflow) (3.1.0)\n",
      "Requirement already satisfied: typing-extensions>=3.6.6 in c:\\users\\shail\\anaconda3\\lib\\site-packages (from tensorflow) (4.11.0)\n",
      "Requirement already satisfied: wrapt>=1.11.0 in c:\\users\\shail\\anaconda3\\lib\\site-packages (from tensorflow) (1.14.1)\n",
      "Requirement already satisfied: grpcio<2.0,>=1.24.3 in c:\\users\\shail\\anaconda3\\lib\\site-packages (from tensorflow) (1.71.0)\n",
      "Requirement already satisfied: tensorboard~=2.19.0 in c:\\users\\shail\\anaconda3\\lib\\site-packages (from tensorflow) (2.19.0)\n",
      "Requirement already satisfied: keras>=3.5.0 in c:\\users\\shail\\anaconda3\\lib\\site-packages (from tensorflow) (3.9.2)\n",
      "Requirement already satisfied: numpy<2.2.0,>=1.26.0 in c:\\users\\shail\\anaconda3\\lib\\site-packages (from tensorflow) (1.26.4)\n",
      "Requirement already satisfied: h5py>=3.11.0 in c:\\users\\shail\\anaconda3\\lib\\site-packages (from tensorflow) (3.11.0)\n",
      "Requirement already satisfied: ml-dtypes<1.0.0,>=0.5.1 in c:\\users\\shail\\anaconda3\\lib\\site-packages (from tensorflow) (0.5.1)\n",
      "Requirement already satisfied: wheel<1.0,>=0.23.0 in c:\\users\\shail\\anaconda3\\lib\\site-packages (from astunparse>=1.6.0->tensorflow) (0.44.0)\n",
      "Requirement already satisfied: rich in c:\\users\\shail\\anaconda3\\lib\\site-packages (from keras>=3.5.0->tensorflow) (13.7.1)\n",
      "Requirement already satisfied: namex in c:\\users\\shail\\anaconda3\\lib\\site-packages (from keras>=3.5.0->tensorflow) (0.0.9)\n",
      "Requirement already satisfied: optree in c:\\users\\shail\\anaconda3\\lib\\site-packages (from keras>=3.5.0->tensorflow) (0.15.0)\n",
      "Requirement already satisfied: charset-normalizer<4,>=2 in c:\\users\\shail\\anaconda3\\lib\\site-packages (from requests<3,>=2.21.0->tensorflow) (3.3.2)\n",
      "Requirement already satisfied: idna<4,>=2.5 in c:\\users\\shail\\anaconda3\\lib\\site-packages (from requests<3,>=2.21.0->tensorflow) (3.7)\n",
      "Requirement already satisfied: urllib3<3,>=1.21.1 in c:\\users\\shail\\anaconda3\\lib\\site-packages (from requests<3,>=2.21.0->tensorflow) (2.2.3)\n",
      "Requirement already satisfied: certifi>=2017.4.17 in c:\\users\\shail\\anaconda3\\lib\\site-packages (from requests<3,>=2.21.0->tensorflow) (2025.4.26)\n",
      "Requirement already satisfied: markdown>=2.6.8 in c:\\users\\shail\\anaconda3\\lib\\site-packages (from tensorboard~=2.19.0->tensorflow) (3.4.1)\n",
      "Requirement already satisfied: tensorboard-data-server<0.8.0,>=0.7.0 in c:\\users\\shail\\anaconda3\\lib\\site-packages (from tensorboard~=2.19.0->tensorflow) (0.7.2)\n",
      "Requirement already satisfied: werkzeug>=1.0.1 in c:\\users\\shail\\anaconda3\\lib\\site-packages (from tensorboard~=2.19.0->tensorflow) (3.0.3)\n",
      "Requirement already satisfied: MarkupSafe>=2.1.1 in c:\\users\\shail\\anaconda3\\lib\\site-packages (from werkzeug>=1.0.1->tensorboard~=2.19.0->tensorflow) (2.1.3)\n",
      "Requirement already satisfied: markdown-it-py>=2.2.0 in c:\\users\\shail\\anaconda3\\lib\\site-packages (from rich->keras>=3.5.0->tensorflow) (2.2.0)\n",
      "Requirement already satisfied: pygments<3.0.0,>=2.13.0 in c:\\users\\shail\\anaconda3\\lib\\site-packages (from rich->keras>=3.5.0->tensorflow) (2.15.1)\n",
      "Requirement already satisfied: mdurl~=0.1 in c:\\users\\shail\\anaconda3\\lib\\site-packages (from markdown-it-py>=2.2.0->rich->keras>=3.5.0->tensorflow) (0.1.0)\n",
      "Note: you may need to restart the kernel to use updated packages.\n"
     ]
    }
   ],
   "source": [
    "%pip install tensorflow"
   ]
  },
  {
   "cell_type": "code",
   "execution_count": 25,
   "id": "e94e7b01",
   "metadata": {},
   "outputs": [],
   "source": [
    "from tensorflow.keras.preprocessing.text import one_hot"
   ]
  },
  {
   "cell_type": "code",
   "execution_count": 26,
   "id": "77a7c3e5",
   "metadata": {},
   "outputs": [],
   "source": [
    "### sentences\n",
    "sent=[  'the glass of milk',\n",
    "     'the glass of juice',\n",
    "     'the cup of tea',\n",
    "    'I am a good boy',\n",
    "     'I am a good developer',\n",
    "     'understand the meaning of words',\n",
    "     'your videos are good',]"
   ]
  },
  {
   "cell_type": "code",
   "execution_count": 27,
   "id": "cf7f351f",
   "metadata": {},
   "outputs": [
    {
     "data": {
      "text/plain": [
       "['the glass of milk',\n",
       " 'the glass of juice',\n",
       " 'the cup of tea',\n",
       " 'I am a good boy',\n",
       " 'I am a good developer',\n",
       " 'understand the meaning of words',\n",
       " 'your videos are good']"
      ]
     },
     "execution_count": 27,
     "metadata": {},
     "output_type": "execute_result"
    }
   ],
   "source": [
    "sent"
   ]
  },
  {
   "cell_type": "code",
   "execution_count": 28,
   "id": "e31f96b8",
   "metadata": {},
   "outputs": [],
   "source": [
    "## Define the vocabulary size\n",
    "voc_size = 10000"
   ]
  },
  {
   "cell_type": "code",
   "execution_count": 29,
   "id": "2785818e",
   "metadata": {},
   "outputs": [
    {
     "data": {
      "text/plain": [
       "[[3820, 7105, 3503, 9484],\n",
       " [3820, 7105, 3503, 5497],\n",
       " [3820, 6742, 3503, 9054],\n",
       " [7814, 4951, 6950, 7354, 3528],\n",
       " [7814, 4951, 6950, 7354, 7844],\n",
       " [3462, 3820, 566, 3503, 2139],\n",
       " [967, 8207, 2286, 7354]]"
      ]
     },
     "execution_count": 29,
     "metadata": {},
     "output_type": "execute_result"
    }
   ],
   "source": [
    "#one hot representation\n",
    "one_hot_repr=[one_hot(words,voc_size)for words in sent]\n",
    "one_hot_repr"
   ]
  },
  {
   "cell_type": "code",
   "execution_count": 30,
   "id": "a90328bf",
   "metadata": {},
   "outputs": [],
   "source": [
    "## Word Embedding Represntation\n",
    "\n",
    "from tensorflow.keras.layers import Embedding\n",
    "from tensorflow.keras.utils import pad_sequences\n",
    "from tensorflow.keras.models import Sequential"
   ]
  },
  {
   "cell_type": "code",
   "execution_count": 31,
   "id": "c91a8381",
   "metadata": {},
   "outputs": [],
   "source": [
    "import numpy as np"
   ]
  },
  {
   "cell_type": "code",
   "execution_count": 32,
   "id": "94cc274f",
   "metadata": {},
   "outputs": [
    {
     "data": {
      "text/plain": [
       "array([[   0,    0,    0,    0, 3820, 7105, 3503, 9484],\n",
       "       [   0,    0,    0,    0, 3820, 7105, 3503, 5497],\n",
       "       [   0,    0,    0,    0, 3820, 6742, 3503, 9054],\n",
       "       [   0,    0,    0, 7814, 4951, 6950, 7354, 3528],\n",
       "       [   0,    0,    0, 7814, 4951, 6950, 7354, 7844],\n",
       "       [   0,    0,    0, 3462, 3820,  566, 3503, 2139],\n",
       "       [   0,    0,    0,    0,  967, 8207, 2286, 7354]])"
      ]
     },
     "execution_count": 32,
     "metadata": {},
     "output_type": "execute_result"
    }
   ],
   "source": [
    "sent_length=8\n",
    "embedded_docs=pad_sequences(one_hot_repr,padding='pre',maxlen=sent_length)\n",
    "embedded_docs"
   ]
  },
  {
   "cell_type": "code",
   "execution_count": 33,
   "id": "34c006ea",
   "metadata": {},
   "outputs": [],
   "source": [
    "# feature represntation\n",
    "dim  = 10"
   ]
  },
  {
   "cell_type": "code",
   "execution_count": 36,
   "id": "d25e908a",
   "metadata": {},
   "outputs": [],
   "source": [
    "model=Sequential()\n",
    "model.add(Embedding(voc_size,dim,input_length=sent_length))\n",
    "model.compile('adam','mse')"
   ]
  },
  {
   "cell_type": "code",
   "execution_count": 37,
   "id": "aca28268",
   "metadata": {},
   "outputs": [
    {
     "data": {
      "text/html": [
       "<pre style=\"white-space:pre;overflow-x:auto;line-height:normal;font-family:Menlo,'DejaVu Sans Mono',consolas,'Courier New',monospace\"><span style=\"font-weight: bold\">Model: \"sequential_3\"</span>\n",
       "</pre>\n"
      ],
      "text/plain": [
       "\u001b[1mModel: \"sequential_3\"\u001b[0m\n"
      ]
     },
     "metadata": {},
     "output_type": "display_data"
    },
    {
     "data": {
      "text/html": [
       "<pre style=\"white-space:pre;overflow-x:auto;line-height:normal;font-family:Menlo,'DejaVu Sans Mono',consolas,'Courier New',monospace\">┏━━━━━━━━━━━━━━━━━━━━━━━━━━━━━━━━━┳━━━━━━━━━━━━━━━━━━━━━━━━┳━━━━━━━━━━━━━━━┓\n",
       "┃<span style=\"font-weight: bold\"> Layer (type)                    </span>┃<span style=\"font-weight: bold\"> Output Shape           </span>┃<span style=\"font-weight: bold\">       Param # </span>┃\n",
       "┡━━━━━━━━━━━━━━━━━━━━━━━━━━━━━━━━━╇━━━━━━━━━━━━━━━━━━━━━━━━╇━━━━━━━━━━━━━━━┩\n",
       "│ embedding_3 (<span style=\"color: #0087ff; text-decoration-color: #0087ff\">Embedding</span>)         │ ?                      │   <span style=\"color: #00af00; text-decoration-color: #00af00\">0</span> (unbuilt) │\n",
       "└─────────────────────────────────┴────────────────────────┴───────────────┘\n",
       "</pre>\n"
      ],
      "text/plain": [
       "┏━━━━━━━━━━━━━━━━━━━━━━━━━━━━━━━━━┳━━━━━━━━━━━━━━━━━━━━━━━━┳━━━━━━━━━━━━━━━┓\n",
       "┃\u001b[1m \u001b[0m\u001b[1mLayer (type)                   \u001b[0m\u001b[1m \u001b[0m┃\u001b[1m \u001b[0m\u001b[1mOutput Shape          \u001b[0m\u001b[1m \u001b[0m┃\u001b[1m \u001b[0m\u001b[1m      Param #\u001b[0m\u001b[1m \u001b[0m┃\n",
       "┡━━━━━━━━━━━━━━━━━━━━━━━━━━━━━━━━━╇━━━━━━━━━━━━━━━━━━━━━━━━╇━━━━━━━━━━━━━━━┩\n",
       "│ embedding_3 (\u001b[38;5;33mEmbedding\u001b[0m)         │ ?                      │   \u001b[38;5;34m0\u001b[0m (unbuilt) │\n",
       "└─────────────────────────────────┴────────────────────────┴───────────────┘\n"
      ]
     },
     "metadata": {},
     "output_type": "display_data"
    },
    {
     "data": {
      "text/html": [
       "<pre style=\"white-space:pre;overflow-x:auto;line-height:normal;font-family:Menlo,'DejaVu Sans Mono',consolas,'Courier New',monospace\"><span style=\"font-weight: bold\"> Total params: </span><span style=\"color: #00af00; text-decoration-color: #00af00\">0</span> (0.00 B)\n",
       "</pre>\n"
      ],
      "text/plain": [
       "\u001b[1m Total params: \u001b[0m\u001b[38;5;34m0\u001b[0m (0.00 B)\n"
      ]
     },
     "metadata": {},
     "output_type": "display_data"
    },
    {
     "data": {
      "text/html": [
       "<pre style=\"white-space:pre;overflow-x:auto;line-height:normal;font-family:Menlo,'DejaVu Sans Mono',consolas,'Courier New',monospace\"><span style=\"font-weight: bold\"> Trainable params: </span><span style=\"color: #00af00; text-decoration-color: #00af00\">0</span> (0.00 B)\n",
       "</pre>\n"
      ],
      "text/plain": [
       "\u001b[1m Trainable params: \u001b[0m\u001b[38;5;34m0\u001b[0m (0.00 B)\n"
      ]
     },
     "metadata": {},
     "output_type": "display_data"
    },
    {
     "data": {
      "text/html": [
       "<pre style=\"white-space:pre;overflow-x:auto;line-height:normal;font-family:Menlo,'DejaVu Sans Mono',consolas,'Courier New',monospace\"><span style=\"font-weight: bold\"> Non-trainable params: </span><span style=\"color: #00af00; text-decoration-color: #00af00\">0</span> (0.00 B)\n",
       "</pre>\n"
      ],
      "text/plain": [
       "\u001b[1m Non-trainable params: \u001b[0m\u001b[38;5;34m0\u001b[0m (0.00 B)\n"
      ]
     },
     "metadata": {},
     "output_type": "display_data"
    }
   ],
   "source": [
    "model.summary()"
   ]
  },
  {
   "cell_type": "code",
   "execution_count": 40,
   "id": "9ee0edad",
   "metadata": {},
   "outputs": [
    {
     "name": "stdout",
     "output_type": "stream",
     "text": [
      "\u001b[1m1/1\u001b[0m \u001b[32m━━━━━━━━━━━━━━━━━━━━\u001b[0m\u001b[37m\u001b[0m \u001b[1m0s\u001b[0m 209ms/step\n"
     ]
    },
    {
     "data": {
      "text/plain": [
       "array([[[-0.01094056, -0.02375809, -0.01554722,  0.00735126,\n",
       "          0.00680216,  0.01214655,  0.02214351, -0.00483375,\n",
       "         -0.04300945, -0.00745863],\n",
       "        [-0.01094056, -0.02375809, -0.01554722,  0.00735126,\n",
       "          0.00680216,  0.01214655,  0.02214351, -0.00483375,\n",
       "         -0.04300945, -0.00745863],\n",
       "        [-0.01094056, -0.02375809, -0.01554722,  0.00735126,\n",
       "          0.00680216,  0.01214655,  0.02214351, -0.00483375,\n",
       "         -0.04300945, -0.00745863],\n",
       "        [-0.01094056, -0.02375809, -0.01554722,  0.00735126,\n",
       "          0.00680216,  0.01214655,  0.02214351, -0.00483375,\n",
       "         -0.04300945, -0.00745863],\n",
       "        [-0.04501269, -0.00126791,  0.04435358,  0.03629551,\n",
       "         -0.01134279, -0.04347431,  0.01744577,  0.00461958,\n",
       "          0.03829556, -0.04900398],\n",
       "        [-0.03713157, -0.02273962,  0.02580453,  0.04226707,\n",
       "          0.01088367,  0.04643753, -0.00631861, -0.04554978,\n",
       "          0.01315032,  0.01049274],\n",
       "        [-0.01184194,  0.04236824, -0.0313589 , -0.02154   ,\n",
       "          0.04570359,  0.03707702, -0.03804832, -0.0057902 ,\n",
       "          0.04230858,  0.04187011],\n",
       "        [ 0.03582361, -0.01611246, -0.03121468, -0.04421259,\n",
       "         -0.00174421,  0.03505996,  0.04347498,  0.0069553 ,\n",
       "          0.03336744, -0.01818439]],\n",
       "\n",
       "       [[-0.01094056, -0.02375809, -0.01554722,  0.00735126,\n",
       "          0.00680216,  0.01214655,  0.02214351, -0.00483375,\n",
       "         -0.04300945, -0.00745863],\n",
       "        [-0.01094056, -0.02375809, -0.01554722,  0.00735126,\n",
       "          0.00680216,  0.01214655,  0.02214351, -0.00483375,\n",
       "         -0.04300945, -0.00745863],\n",
       "        [-0.01094056, -0.02375809, -0.01554722,  0.00735126,\n",
       "          0.00680216,  0.01214655,  0.02214351, -0.00483375,\n",
       "         -0.04300945, -0.00745863],\n",
       "        [-0.01094056, -0.02375809, -0.01554722,  0.00735126,\n",
       "          0.00680216,  0.01214655,  0.02214351, -0.00483375,\n",
       "         -0.04300945, -0.00745863],\n",
       "        [-0.04501269, -0.00126791,  0.04435358,  0.03629551,\n",
       "         -0.01134279, -0.04347431,  0.01744577,  0.00461958,\n",
       "          0.03829556, -0.04900398],\n",
       "        [-0.03713157, -0.02273962,  0.02580453,  0.04226707,\n",
       "          0.01088367,  0.04643753, -0.00631861, -0.04554978,\n",
       "          0.01315032,  0.01049274],\n",
       "        [-0.01184194,  0.04236824, -0.0313589 , -0.02154   ,\n",
       "          0.04570359,  0.03707702, -0.03804832, -0.0057902 ,\n",
       "          0.04230858,  0.04187011],\n",
       "        [-0.0273198 ,  0.04596217, -0.00692693, -0.01223563,\n",
       "         -0.01548841, -0.00780777,  0.00406247, -0.00387858,\n",
       "          0.02172338, -0.03261193]],\n",
       "\n",
       "       [[-0.01094056, -0.02375809, -0.01554722,  0.00735126,\n",
       "          0.00680216,  0.01214655,  0.02214351, -0.00483375,\n",
       "         -0.04300945, -0.00745863],\n",
       "        [-0.01094056, -0.02375809, -0.01554722,  0.00735126,\n",
       "          0.00680216,  0.01214655,  0.02214351, -0.00483375,\n",
       "         -0.04300945, -0.00745863],\n",
       "        [-0.01094056, -0.02375809, -0.01554722,  0.00735126,\n",
       "          0.00680216,  0.01214655,  0.02214351, -0.00483375,\n",
       "         -0.04300945, -0.00745863],\n",
       "        [-0.01094056, -0.02375809, -0.01554722,  0.00735126,\n",
       "          0.00680216,  0.01214655,  0.02214351, -0.00483375,\n",
       "         -0.04300945, -0.00745863],\n",
       "        [-0.04501269, -0.00126791,  0.04435358,  0.03629551,\n",
       "         -0.01134279, -0.04347431,  0.01744577,  0.00461958,\n",
       "          0.03829556, -0.04900398],\n",
       "        [ 0.0260532 ,  0.03947616,  0.01767052,  0.03860756,\n",
       "          0.00347495,  0.02259703, -0.02552358,  0.02055651,\n",
       "         -0.03566419,  0.01049865],\n",
       "        [-0.01184194,  0.04236824, -0.0313589 , -0.02154   ,\n",
       "          0.04570359,  0.03707702, -0.03804832, -0.0057902 ,\n",
       "          0.04230858,  0.04187011],\n",
       "        [ 0.03548968, -0.02317733,  0.02121877, -0.02482631,\n",
       "         -0.03256075, -0.02977809,  0.00015067,  0.00944843,\n",
       "          0.02136511,  0.0496746 ]],\n",
       "\n",
       "       [[-0.01094056, -0.02375809, -0.01554722,  0.00735126,\n",
       "          0.00680216,  0.01214655,  0.02214351, -0.00483375,\n",
       "         -0.04300945, -0.00745863],\n",
       "        [-0.01094056, -0.02375809, -0.01554722,  0.00735126,\n",
       "          0.00680216,  0.01214655,  0.02214351, -0.00483375,\n",
       "         -0.04300945, -0.00745863],\n",
       "        [-0.01094056, -0.02375809, -0.01554722,  0.00735126,\n",
       "          0.00680216,  0.01214655,  0.02214351, -0.00483375,\n",
       "         -0.04300945, -0.00745863],\n",
       "        [ 0.01135374, -0.00514944, -0.044934  ,  0.02289165,\n",
       "          0.03750436, -0.02109072, -0.04000103,  0.01850475,\n",
       "          0.00795259,  0.02585513],\n",
       "        [-0.01314708,  0.00214578, -0.02373446,  0.03647739,\n",
       "          0.04406483, -0.0265258 , -0.02082582, -0.03632141,\n",
       "         -0.03714584,  0.02909559],\n",
       "        [ 0.01741936,  0.04207676,  0.03922284, -0.04654561,\n",
       "          0.001916  ,  0.01531101,  0.022755  ,  0.00748831,\n",
       "          0.03539837,  0.03355223],\n",
       "        [ 0.00966803, -0.0360129 , -0.00686889, -0.03288366,\n",
       "         -0.04095185,  0.01973249, -0.00473267, -0.02417979,\n",
       "         -0.03886778,  0.00563966],\n",
       "        [-0.03251751,  0.00528602, -0.00145946, -0.00075682,\n",
       "         -0.01324014, -0.00637841,  0.01013   ,  0.03587553,\n",
       "          0.01543505,  0.01329725]],\n",
       "\n",
       "       [[-0.01094056, -0.02375809, -0.01554722,  0.00735126,\n",
       "          0.00680216,  0.01214655,  0.02214351, -0.00483375,\n",
       "         -0.04300945, -0.00745863],\n",
       "        [-0.01094056, -0.02375809, -0.01554722,  0.00735126,\n",
       "          0.00680216,  0.01214655,  0.02214351, -0.00483375,\n",
       "         -0.04300945, -0.00745863],\n",
       "        [-0.01094056, -0.02375809, -0.01554722,  0.00735126,\n",
       "          0.00680216,  0.01214655,  0.02214351, -0.00483375,\n",
       "         -0.04300945, -0.00745863],\n",
       "        [ 0.01135374, -0.00514944, -0.044934  ,  0.02289165,\n",
       "          0.03750436, -0.02109072, -0.04000103,  0.01850475,\n",
       "          0.00795259,  0.02585513],\n",
       "        [-0.01314708,  0.00214578, -0.02373446,  0.03647739,\n",
       "          0.04406483, -0.0265258 , -0.02082582, -0.03632141,\n",
       "         -0.03714584,  0.02909559],\n",
       "        [ 0.01741936,  0.04207676,  0.03922284, -0.04654561,\n",
       "          0.001916  ,  0.01531101,  0.022755  ,  0.00748831,\n",
       "          0.03539837,  0.03355223],\n",
       "        [ 0.00966803, -0.0360129 , -0.00686889, -0.03288366,\n",
       "         -0.04095185,  0.01973249, -0.00473267, -0.02417979,\n",
       "         -0.03886778,  0.00563966],\n",
       "        [-0.01480783, -0.03746524,  0.00353277, -0.02138646,\n",
       "         -0.0343459 ,  0.01513785, -0.0452862 ,  0.04299773,\n",
       "          0.03723318, -0.00932992]],\n",
       "\n",
       "       [[-0.01094056, -0.02375809, -0.01554722,  0.00735126,\n",
       "          0.00680216,  0.01214655,  0.02214351, -0.00483375,\n",
       "         -0.04300945, -0.00745863],\n",
       "        [-0.01094056, -0.02375809, -0.01554722,  0.00735126,\n",
       "          0.00680216,  0.01214655,  0.02214351, -0.00483375,\n",
       "         -0.04300945, -0.00745863],\n",
       "        [-0.01094056, -0.02375809, -0.01554722,  0.00735126,\n",
       "          0.00680216,  0.01214655,  0.02214351, -0.00483375,\n",
       "         -0.04300945, -0.00745863],\n",
       "        [-0.01536337,  0.02047556,  0.03981923,  0.01126568,\n",
       "         -0.03857335, -0.01843143,  0.00096353, -0.03372194,\n",
       "         -0.04992244, -0.03332084],\n",
       "        [-0.04501269, -0.00126791,  0.04435358,  0.03629551,\n",
       "         -0.01134279, -0.04347431,  0.01744577,  0.00461958,\n",
       "          0.03829556, -0.04900398],\n",
       "        [ 0.0493976 , -0.0335478 , -0.04640228,  0.0280734 ,\n",
       "         -0.04056494,  0.03856549, -0.02938771,  0.02713514,\n",
       "          0.04631377,  0.00195756],\n",
       "        [-0.01184194,  0.04236824, -0.0313589 , -0.02154   ,\n",
       "          0.04570359,  0.03707702, -0.03804832, -0.0057902 ,\n",
       "          0.04230858,  0.04187011],\n",
       "        [-0.01178969, -0.04794002,  0.02143921,  0.02345477,\n",
       "         -0.02957888,  0.00525864, -0.04763416,  0.02280975,\n",
       "          0.03157004, -0.00964723]],\n",
       "\n",
       "       [[-0.01094056, -0.02375809, -0.01554722,  0.00735126,\n",
       "          0.00680216,  0.01214655,  0.02214351, -0.00483375,\n",
       "         -0.04300945, -0.00745863],\n",
       "        [-0.01094056, -0.02375809, -0.01554722,  0.00735126,\n",
       "          0.00680216,  0.01214655,  0.02214351, -0.00483375,\n",
       "         -0.04300945, -0.00745863],\n",
       "        [-0.01094056, -0.02375809, -0.01554722,  0.00735126,\n",
       "          0.00680216,  0.01214655,  0.02214351, -0.00483375,\n",
       "         -0.04300945, -0.00745863],\n",
       "        [-0.01094056, -0.02375809, -0.01554722,  0.00735126,\n",
       "          0.00680216,  0.01214655,  0.02214351, -0.00483375,\n",
       "         -0.04300945, -0.00745863],\n",
       "        [-0.00204736, -0.01450118, -0.03692839,  0.03561999,\n",
       "          0.04509867, -0.03753954, -0.02606308, -0.00705974,\n",
       "          0.0326708 , -0.01690949],\n",
       "        [-0.04279962, -0.0438149 ,  0.03029045, -0.00115575,\n",
       "          0.02362039,  0.00487566,  0.03588203,  0.04252871,\n",
       "         -0.01086966,  0.01340885],\n",
       "        [-0.04847361,  0.0447729 ,  0.02964964,  0.01239314,\n",
       "         -0.02579836,  0.03914425,  0.04264593,  0.01335518,\n",
       "         -0.03814204,  0.03307071],\n",
       "        [ 0.00966803, -0.0360129 , -0.00686889, -0.03288366,\n",
       "         -0.04095185,  0.01973249, -0.00473267, -0.02417979,\n",
       "         -0.03886778,  0.00563966]]], dtype=float32)"
      ]
     },
     "execution_count": 40,
     "metadata": {},
     "output_type": "execute_result"
    }
   ],
   "source": [
    "model.predict(embedded_docs)"
   ]
  },
  {
   "cell_type": "code",
   "execution_count": 41,
   "id": "d21234ac",
   "metadata": {},
   "outputs": [
    {
     "data": {
      "text/plain": [
       "array([   0,    0,    0,    0, 3820, 7105, 3503, 9484])"
      ]
     },
     "execution_count": 41,
     "metadata": {},
     "output_type": "execute_result"
    }
   ],
   "source": [
    "embedded_docs[0]"
   ]
  },
  {
   "cell_type": "code",
   "execution_count": null,
   "id": "b79054eb",
   "metadata": {},
   "outputs": [],
   "source": []
  }
 ],
 "metadata": {
  "kernelspec": {
   "display_name": "base",
   "language": "python",
   "name": "python3"
  },
  "language_info": {
   "codemirror_mode": {
    "name": "ipython",
    "version": 3
   },
   "file_extension": ".py",
   "mimetype": "text/x-python",
   "name": "python",
   "nbconvert_exporter": "python",
   "pygments_lexer": "ipython3",
   "version": "3.12.7"
  }
 },
 "nbformat": 4,
 "nbformat_minor": 5
}
